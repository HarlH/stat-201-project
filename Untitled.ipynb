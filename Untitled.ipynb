{
 "cells": [
  {
   "cell_type": "markdown",
   "id": "6ea8190b-f610-415e-805c-4db1aae2179c",
   "metadata": {},
   "source": [
    "###Project Proposal\n",
    "\n",
    "STAT 201 Group 26 Project Proposal\n",
    "\n",
    "Plan: finish the proposal on Thursday March 16\n",
    "Final check and submission on Friday March 17\n",
    "\n",
    "Title\n",
    "\n",
    "\n",
    "\n",
    "\n",
    "Introduction\n",
    "Provide relevant background information on the topic. \n",
    "\n",
    "Clearly state the question you will try to answer with your project. Your question should involve one or more random variables of interest, spread across two or more categories that are interesting to compare. Of the response variable, identify one location parameter (mean, median, quantile, etc.) and one scale parameter (standard deviation, inter-quartile range, etc.) that would be useful in answering your question. Justify your choices.\n",
    "\n",
    "\n",
    "Identify and describe the dataset that will be used to answer the question. Remember, this dataset is allowed to contain more variables than you need – feel free to drop them!\n",
    "Also, be sure to frame your question/objectives in terms of what is already known in the literature. Be sure to include at least two scientific publications that can help frame your study (you will need to include these in the References section).\n",
    "\n",
    "\n",
    "\n",
    "NOTE**: If it doesn’t make sense to infer a scale parameter, you can choose another parameter, or choose a second variable altogether. Ultimately, we’re looking for a comprehensive inference analysis on one parameter spread across 2+ groups (with at least one hypothesis test), plus a bit more (such as an investigation on the variance, a quantile, or a different variable). In total, you should use both bootstrapping and asymptotics somewhere in your report at least once each. Also, your hypothesis test(s) need not be significant: it is perfectly fine to write a report claiming no significant findings (i.e. your p-value is large).\n",
    "\n",
    "\n",
    "Preliminary Results\n",
    "Demonstrate that the dataset can be read from the web into R.\n",
    "Clean and wrangle your data into a tidy format.\n",
    "Plot the relevant raw data, tailoring your plot in a way that addresses your question.\n",
    "Compute estimates of the parameter you identified across your groups. Present this in a table. If relevant, include these estimates in your plot.\n",
    "\n",
    "\n",
    "Methods: Plan\n",
    "a brief description of “the good things” about this report – specifically, in what ways is this report trustworthy?\n",
    "Continue by explaining why the plot(s) and estimates that you produced are not enough to give to a stakeholder, and what you should provide in addition to address this gap. Make sure your plans include at least one hypothesis test and one confidence interval. If possible, compare both the bootstrapping and asymptotics methods.\n",
    "Finish this section by reflecting on how your final report might play out:\n",
    "What do you expect to find?\n",
    "What impact could such findings have?\n",
    "What future questions could this lead to?\n",
    "\n",
    "\n",
    "References\n",
    "At least two citations of literature relevant to the project.\n",
    "\n",
    "\n"
   ]
  },
  {
   "cell_type": "code",
   "execution_count": null,
   "id": "564c8932-5ce8-4eda-bb8f-5476268cd720",
   "metadata": {},
   "outputs": [],
   "source": []
  }
 ],
 "metadata": {
  "kernelspec": {
   "display_name": "R",
   "language": "R",
   "name": "ir"
  },
  "language_info": {
   "codemirror_mode": "r",
   "file_extension": ".r",
   "mimetype": "text/x-r-source",
   "name": "R",
   "pygments_lexer": "r",
   "version": "4.1.3"
  }
 },
 "nbformat": 4,
 "nbformat_minor": 5
}
